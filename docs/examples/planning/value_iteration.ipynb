{
 "cells": [
  {
   "cell_type": "markdown",
   "metadata": {},
   "source": [
    "# Value iteration example\n",
    "\n",
    "Value iteration is a dynamic programming algorithm that computes the optimal value function and the optimal policy for a Markov decision process (MDP). It is a \"model-based\" algorithm, meaning that it requires knowledge of the transition probabilities and rewards of the MDP."
   ]
  },
  {
   "cell_type": "markdown",
   "metadata": {},
   "source": [
    "## Imports"
   ]
  },
  {
   "cell_type": "code",
   "execution_count": 1,
   "metadata": {},
   "outputs": [],
   "source": [
    "# autorelaod\n",
    "%load_ext autoreload\n",
    "%autoreload 2"
   ]
  },
  {
   "cell_type": "code",
   "execution_count": null,
   "metadata": {},
   "outputs": [],
   "source": [
    "import numpy as np\n",
    "import jax.numpy as jnp\n",
    "from behavioural_modelling.planning.dynamic_programming import (\n",
    "    solve_value_iteration,\n",
    ")\n",
    "import matplotlib.pyplot as plt"
   ]
  },
  {
   "cell_type": "markdown",
   "metadata": {},
   "source": [
    "## Create a function to define a simple grid world environment"
   ]
  },
  {
   "cell_type": "code",
   "execution_count": null,
   "metadata": {},
   "outputs": [],
   "source": [
    "# Simple Gridworld setup\n",
    "def create_gridworld(\n",
    "    grid_size: int = 15,\n",
    "    discount: float = 0.9,\n",
    "    n_rewards: int = 1,\n",
    "    seed: int = 42,\n",
    "):\n",
    "\n",
    "    # Initialise RNG\n",
    "    rng = np.random.RandomState(seed)\n",
    "\n",
    "    # Number of states and actions\n",
    "    n_states = grid_size**2\n",
    "    n_actions = 5  # up, down, left, right, stay\n",
    "\n",
    "    # Reward function\n",
    "    reward_function = np.zeros(n_states)\n",
    "    for _ in range(n_rewards):\n",
    "        reward_function[rng.randint(n_states)] = 1.0\n",
    "\n",
    "    # Features matrix: Identity (each state is a feature)\n",
    "    features = np.eye(n_states)\n",
    "\n",
    "    # SAS matrix (state, action, state transition probabilities)\n",
    "    sas = np.zeros((n_states, n_actions, n_states))\n",
    "\n",
    "    # Create transition probabilities for a simple gridworld\n",
    "    def state_to_coords(s, size):\n",
    "        return s // size, s % size\n",
    "\n",
    "    def coords_to_state(x, y, size):\n",
    "        return x * size + y\n",
    "\n",
    "    # Get the state transition probabilities\n",
    "    for s in range(n_states):\n",
    "        x, y = state_to_coords(s, grid_size)\n",
    "\n",
    "        # Up\n",
    "        if x > 0:\n",
    "            sas[s, 0, coords_to_state(x - 1, y, grid_size)] = 1.0\n",
    "        else:\n",
    "            sas[s, 0, s] = 1.0  # Bump into wall\n",
    "\n",
    "        # Down\n",
    "        if x < grid_size - 1:\n",
    "            sas[s, 1, coords_to_state(x + 1, y, grid_size)] = 1.0\n",
    "        else:\n",
    "            sas[s, 1, s] = 1.0  # Bump into wall\n",
    "\n",
    "        # Left\n",
    "        if y > 0:\n",
    "            sas[s, 2, coords_to_state(x, y - 1, grid_size)] = 1.0\n",
    "        else:\n",
    "            sas[s, 2, s] = 1.0  # Bump into wall\n",
    "\n",
    "        # Right\n",
    "        if y < grid_size - 1:\n",
    "            sas[s, 3, coords_to_state(x, y + 1, grid_size)] = 1.0\n",
    "        else:\n",
    "            sas[s, 3, s] = 1.0  # Bump into wall\n",
    "\n",
    "        # Stay\n",
    "        sas[s, 4, s] = 1.0\n",
    "\n",
    "    return reward_function, features, sas, discount, n_states, n_actions"
   ]
  },
  {
   "cell_type": "markdown",
   "metadata": {},
   "source": [
    "## Plot the gridworld environment\n",
    "\n",
    "We'll do one with a single positive goal state."
   ]
  },
  {
   "cell_type": "code",
   "execution_count": null,
   "metadata": {},
   "outputs": [
    {
     "data": {
      "text/plain": [
       "<matplotlib.image.AxesImage at 0x7f86f845a5f0>"
      ]
     },
     "execution_count": 4,
     "metadata": {},
     "output_type": "execute_result"
    },
    {
     "data": {
      "image/png": "[encoded data removed]",
      "text/plain": [
       "<Figure size 640x480 with 1 Axes>"
      ]
     },
     "metadata": {},
     "output_type": "display_data"
    }
   ],
   "source": [
    "# Get Gridworld setup\n",
    "reward_function, features, sas, discount, n_states, n_actions = (\n",
    "    create_gridworld()\n",
    ")\n",
    "\n",
    "# Plot\n",
    "plt.imshow(reward_function.reshape(15, 15))"
   ]
  },
  {
   "cell_type": "markdown",
   "metadata": {},
   "source": [
    "And another with a large negative area."
   ]
  },
  {
   "cell_type": "code",
   "execution_count": null,
   "metadata": {},
   "outputs": [
    {
     "data": {
      "text/plain": [
       "<matplotlib.image.AxesImage at 0x7f86c87ec9d0>"
      ]
     },
     "execution_count": 26,
     "metadata": {},
     "output_type": "execute_result"
    },
    {
     "data": {
      "image/png": "[encoded data removed]",
      "text/plain": [
       "<Figure size 640x480 with 1 Axes>"
      ]
     },
     "metadata": {},
     "output_type": "display_data"
    }
   ],
   "source": [
    "reward_function2 = reward_function.copy()\n",
    "reward_function2[4:15] = -5\n",
    "reward_function2[19:30] = -5\n",
    "reward_function2[34:45] = -5\n",
    "reward_function2[49:60] = -5\n",
    "reward_function2[64:75] = -5\n",
    "reward_function2[79:90] = -5\n",
    "\n",
    "plt.imshow(reward_function2.reshape(15, 15))"
   ]
  },
  {
   "cell_type": "markdown",
   "metadata": {},
   "source": [
    "## Run the value iteration algorithm"
   ]
  },
  {
   "cell_type": "code",
   "execution_count": null,
   "metadata": {},
   "outputs": [],
   "source": [
    "# Parameters for the value iteration\n",
    "max_iter = 1000\n",
    "tol = 1e-4\n",
    "\n",
    "# Solve\n",
    "values, q_values = solve_value_iteration(\n",
    "    sas.shape[0],\n",
    "    sas.shape[1],\n",
    "    jnp.array(reward_function),\n",
    "    max_iter,\n",
    "    discount,\n",
    "    jnp.array(sas),\n",
    "    tol,\n",
    ")\n",
    "values2, q_values2 = solve_value_iteration(\n",
    "    sas.shape[0],\n",
    "    sas.shape[1],\n",
    "    jnp.array(reward_function2),\n",
    "    max_iter,\n",
    "    discount,\n",
    "    jnp.array(sas),\n",
    "    tol,\n",
    ")"
   ]
  },
  {
   "cell_type": "markdown",
   "metadata": {},
   "source": [
    "## Plot the value fuction"
   ]
  },
  {
   "cell_type": "code",
   "execution_count": 31,
   "metadata": {},
   "outputs": [
    {
     "data": {
      "text/plain": [
       "<matplotlib.image.AxesImage at 0x7f86c81425f0>"
      ]
     },
     "execution_count": 31,
     "metadata": {},
     "output_type": "execute_result"
    },
    {
     "data": {
      "image/png": "[encoded data removed]",
      "text/plain": [
       "<Figure size 1000x500 with 2 Axes>"
      ]
     },
     "metadata": {},
     "output_type": "display_data"
    }
   ],
   "source": [
    "f, ax = plt.subplots(1, 2, figsize=(10, 5))\n",
    "\n",
    "# get grid size\n",
    "grid_size = int(np.sqrt(n_states))\n",
    "\n",
    "ax[0].imshow(values.reshape(grid_size, grid_size), interpolation=\"nearest\")\n",
    "ax[1].imshow(values2.reshape(grid_size, grid_size), interpolation=\"nearest\")"
   ]
  }
 ],
 "metadata": {
  "kernelspec": {
   "display_name": "general",
   "language": "python",
   "name": "python3"
  },
  "language_info": {
   "codemirror_mode": {
    "name": "ipython",
    "version": 3
   },
   "file_extension": ".py",
   "mimetype": "text/x-python",
   "name": "python",
   "nbconvert_exporter": "python",
   "pygments_lexer": "ipython3",
   "version": "3.10.14"
  }
 },
 "nbformat": 4,
 "nbformat_minor": 2
}
